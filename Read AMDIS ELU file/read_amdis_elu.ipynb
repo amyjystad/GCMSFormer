{
 "cells": [
  {
   "cell_type": "code",
   "execution_count": 1,
   "outputs": [],
   "source": [
    "import re\n",
    "import numpy as np"
   ],
   "metadata": {
    "collapsed": false,
    "ExecuteTime": {
     "end_time": "2024-02-22T11:03:42.592941500Z",
     "start_time": "2024-02-22T11:03:42.509956600Z"
    }
   }
  },
  {
   "cell_type": "code",
   "execution_count": 2,
   "metadata": {
    "collapsed": true,
    "ExecuteTime": {
     "end_time": "2024-02-22T11:03:46.097245Z",
     "start_time": "2024-02-22T11:03:46.075305100Z"
    }
   },
   "outputs": [],
   "source": [
    "def read_amdis_elu(elu_file_path):\n",
    "\n",
    "    f = open(elu_file_path).read()\n",
    "\n",
    "    a = f.split('\\n')\n",
    "    m = []\n",
    "    n = []\n",
    "    for i, l in enumerate(a):\n",
    "        if l.startswith('NAME'):\n",
    "            m.append(i)\n",
    "        if l.startswith('NUM PEAKS'):\n",
    "            n.append(i)\n",
    "\n",
    "    name_lst = []\n",
    "    for name_number in m:\n",
    "        name_lst.append(a[name_number])\n",
    "    peak_area = []\n",
    "    R2 = []\n",
    "    RT = []\n",
    "    for name_str in name_lst:\n",
    "        nm0 = name_str.split('|')\n",
    "        for nm1 in nm0:\n",
    "            if nm1.startswith('XN'):\n",
    "                peak_area.append(nm1)\n",
    "            elif nm1.startswith('FG'):\n",
    "                R2.append(nm1)\n",
    "            elif nm1.startswith('RT'):\n",
    "                RT.append(nm1)\n",
    "\n",
    "    mss_dense = np.zeros((0, 1000), dtype=np.float32)\n",
    "    for t in range(len(m)-1):\n",
    "        ms = []\n",
    "        for j in range(n[t] + 1, m[t + 1] - 1):\n",
    "            result = re.findall(r'\\((.*?)\\)', a[j])\n",
    "            for k in result:\n",
    "                ms.append(k)\n",
    "        mzs = []\n",
    "        ins = []\n",
    "        for p in ms:\n",
    "            mz_in = p.split(',')\n",
    "            mzs.append(int(float(mz_in[0])))\n",
    "            mz_in0 = mz_in[1].split(' ')\n",
    "            ins.append(np.float32((mz_in0[0])))\n",
    "\n",
    "        ms_dense = np.zeros((1, 1000), dtype=np.float32)\n",
    "        for i, mz in enumerate(mzs):\n",
    "            ms_dense[0, mz - 1] = ins[i]\n",
    "        mss_dense = np.vstack((mss_dense, ms_dense))\n",
    "    ms = []\n",
    "    for j in range(n[-1] + 1, len(a)):\n",
    "        result = re.findall(r'\\((.*?)\\)', a[j])\n",
    "        for k in result:\n",
    "            ms.append(k)\n",
    "    mzs = []\n",
    "    ins = []\n",
    "    for p in ms:\n",
    "        mz_in = p.split(',')\n",
    "        mzs.append(int(float(mz_in[0])))\n",
    "        mz_in0 = mz_in[1].split(' ')\n",
    "        ins.append(np.float32((mz_in0[0])))\n",
    "\n",
    "    ms_dense = np.zeros((1, 1000), dtype=np.float32)\n",
    "    for i, mz in enumerate(mzs):\n",
    "        ms_dense[0, mz - 1] = ins[i]\n",
    "    mss_dense = np.vstack((mss_dense, ms_dense))\n",
    "    return RT, peak_area, R2, mss_dense"
   ]
  },
  {
   "cell_type": "code",
   "execution_count": 4,
   "outputs": [
    {
     "name": "stdout",
     "output_type": "stream",
     "text": [
      "The RT is:5.5587min, the peak area is 6311036, the R2 is 1.000\n"
     ]
    },
    {
     "data": {
      "text/plain": "<Figure size 640x480 with 1 Axes>",
      "image/png": "[encoded data removed]"
     },
     "metadata": {},
     "output_type": "display_data"
    }
   ],
   "source": [
    "file_path = r'plant essential oil.ELU'\n",
    "RT, peak_area, R2, mss_dense = read_amdis_elu(file_path)\n",
    "\n",
    "com_num = input('Please input the number of compounds:')\n",
    "RT_num = re.sub(r'[A-Za-z]', '', RT[int(com_num)-1])\n",
    "area_num = re.sub(r'[A-Za-z]', '', peak_area[int(com_num)-1])\n",
    "R2_num = re.sub(r'[A-Za-z]', '', R2[int(com_num)-1])\n",
    "print(f'The RT is:{RT_num}min, the peak area is {area_num}, the R2 is {R2_num}')\n",
    "\n",
    "import matplotlib.pyplot as plt\n",
    "ms = mss_dense[int(com_num)-1]\n",
    "plt.vlines(np.arange(0,500), np.zeros((len(np.arange(0,500)),)), ms[0:500], linestyles='solid', linewidth=2)\n",
    "plt.ylim([0,1000])\n",
    "plt.show()"
   ],
   "metadata": {
    "collapsed": false,
    "ExecuteTime": {
     "end_time": "2024-02-22T11:04:45.415892400Z",
     "start_time": "2024-02-22T11:04:43.312882500Z"
    }
   }
  },
  {
   "cell_type": "code",
   "execution_count": null,
   "outputs": [],
   "source": [],
   "metadata": {
    "collapsed": false
   }
  }
 ],
 "metadata": {
  "kernelspec": {
   "display_name": "Python 3",
   "language": "python",
   "name": "python3"
  },
  "language_info": {
   "codemirror_mode": {
    "name": "ipython",
    "version": 2
   },
   "file_extension": ".py",
   "mimetype": "text/x-python",
   "name": "python",
   "nbconvert_exporter": "python",
   "pygments_lexer": "ipython2",
   "version": "2.7.6"
  }
 },
 "nbformat": 4,
 "nbformat_minor": 0
}
