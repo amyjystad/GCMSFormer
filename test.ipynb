{
 "cells": [
  {
   "cell_type": "markdown",
   "id": "1dbbef05",
   "metadata": {},
   "source": [
    "# Resolving the whole process of plant essential oil dataset\n",
    "## Load the required packages "
   ]
  },
  {
   "cell_type": "code",
   "execution_count": 1,
   "id": "a3d91c50",
   "metadata": {},
   "outputs": [],
   "source": [
    "import torch\n",
    "import seaborn\n",
    "seaborn.set_context(context=\"talk\")\n",
    "from GCMSFormer.GCMSFormer import train_model, evaluate_model, check_model, plot_loss, make_model\n",
    "from GCMSFormer.da import gen_datasets\n",
    "import pickle\n",
    "from GCMSFormer.Resolution import Resolution, output_msp\n",
    "from GCMSFormer.Alignment import Alignment\n",
    "import time\n",
    "import os\n",
    "from GCMSFormer.NetCDF import netcdf_reader  \n",
    "import pandas as pd"
   ]
  },
  {
   "cell_type": "markdown",
   "id": "a07caae5",
   "metadata": {},
   "source": [
    "## Load the Library"
   ]
  },
  {
   "cell_type": "code",
   "execution_count": 2,
   "id": "c4d98b05",
   "metadata": {},
   "outputs": [],
   "source": [
    "with open('Library/tgt_vacob.pk', 'rb') as file_1:\n",
    "     tgt_vacob = pickle.load(file_1)"
   ]
  },
  {
   "cell_type": "markdown",
   "id": "41cbc985",
   "metadata": {},
   "source": [
    "## Load GCMSFormer model "
   ]
  },
  {
   "cell_type": "code",
   "execution_count": 3,
   "id": "87821494",
   "metadata": {},
   "outputs": [
    {
     "data": {
      "image/png": "[encoded data removed]",
      "text/plain": [
       "<Figure size 576x432 with 1 Axes>"
      ]
     },
     "metadata": {
      "needs_background": "light"
     },
     "output_type": "display_data"
    }
   ],
   "source": [
    "model_path='../model'\n",
    "model_name='GCMSFormer'\n",
    "loss_name='loss'\n",
    "mz_range = (1, 1000)\n",
    "if check_model(model_path + '/' + model_name, model_path + '/' + loss_name):\n",
    "    # load model\n",
    "    m_state_dict = torch.load(model_path + '/' + model_name + '.pt')\n",
    "    model = make_model(len(tgt_vacob), N=6, \n",
    "                   d_model=1000, d_ff=1024, h=5, dropout=0.1)\n",
    "    model.load_state_dict(m_state_dict)\n",
    "    # load loss\n",
    "    with open(model_path + '/' + loss_name +'.pk', 'rb') as file_1:\n",
    "         loss = pickle.load(file_1)\n",
    "    plot_loss(loss)\n",
    "else:\n",
    "    para = {'name': 'Library/spectra.msp',\n",
    "                    'mz_range': mz_range,\n",
    "                    'aug_num': 30000,\n",
    "                    'layer_num': 6,\n",
    "                    'batch': 20,\n",
    "                    'epoch': 50,\n",
    "                    'lr': 0.0001,\n",
    "                    'head': 5,\n",
    "                    'model_path': '../model',\n",
    "                    'model_name': model_name,\n",
    "                    'loss_name': loss_name}\n",
    "    # Generating Dataset\n",
    "    TRAIN, VALID, TEST, tgt_vacob = gen_datasets(para)\n",
    "    # Train model\n",
    "    model, Loss = train_model(para,TRAIN, VALID, tgt_vacob)\n",
    "    plot_loss(Loss) \n",
    "    # Test model\n",
    "    score=evaluate_model(model,TEST,tgt_vacob,int(max(para['mz_range'])))"
   ]
  },
  {
   "cell_type": "markdown",
   "id": "a2f09a77",
   "metadata": {},
   "source": [
    "## GCMSFormer resolution of plant essential oil datasets"
   ]
  },
  {
   "cell_type": "code",
   "execution_count": 4,
   "id": "9d3878b7",
   "metadata": {},
   "outputs": [
    {
     "name": "stderr",
     "output_type": "stream",
     "text": [
      "1-0.2.CDF: 100%|███████████████████████████████████████████████████████████████████████| 15/15 [00:09<00:00,  1.62it/s]\n",
      "1-0.4.CDF: 100%|███████████████████████████████████████████████████████████████████████| 18/18 [00:13<00:00,  1.32it/s]\n",
      "1-0.6.CDF: 100%|███████████████████████████████████████████████████████████████████████| 19/19 [00:12<00:00,  1.52it/s]\n",
      "1-0.8.CDF: 100%|███████████████████████████████████████████████████████████████████████| 21/21 [00:14<00:00,  1.47it/s]\n",
      "1-1.0.CDF: 100%|███████████████████████████████████████████████████████████████████████| 22/22 [00:13<00:00,  1.63it/s]\n",
      "2-0.2.CDF: 100%|███████████████████████████████████████████████████████████████████████| 28/28 [00:17<00:00,  1.62it/s]\n",
      "2-0.4.CDF: 100%|███████████████████████████████████████████████████████████████████████| 38/38 [00:24<00:00,  1.53it/s]\n",
      "2-0.6.CDF: 100%|███████████████████████████████████████████████████████████████████████| 40/40 [00:26<00:00,  1.53it/s]\n",
      "2-0.8.CDF: 100%|███████████████████████████████████████████████████████████████████████| 41/41 [00:24<00:00,  1.68it/s]\n",
      "2-1.0.CDF: 100%|███████████████████████████████████████████████████████████████████████| 38/38 [00:22<00:00,  1.66it/s]\n"
     ]
    },
    {
     "name": "stdout",
     "output_type": "stream",
     "text": [
      "Running time: 210.67s\n"
     ]
    }
   ],
   "source": [
    "# Test GCMSFormer\n",
    "devices = torch.device('cpu')\n",
    "model = model.to(devices)\n",
    "start = time.time()\n",
    "path = '../data'\n",
    "files = os.listdir(path)\n",
    "Alignment_or_not = True\n",
    "if Alignment_or_not:\n",
    "    # Set Ⅰ\n",
    "    df0, N0 = Alignment(path,files[0:5],model,tgt_vacob.to(devices),devices)\n",
    "    df0.to_csv(path + '/' + 'SetⅠ.csv', index=False)\n",
    "    # Set Ⅱ\n",
    "    df1, N1 = Alignment(path,files[5:10],model,tgt_vacob.to(devices),devices)\n",
    "    df1.to_csv(path + '/' + 'SetⅡ.csv', index=False)\n",
    "else:\n",
    "    for filename in files:\n",
    "            ncr = netcdf_reader(path + '/' + filename, True)\n",
    "            sta_S, area, rt, R2 = Resolution(path,filename,model,tgt_vacob.to(devices),devices)\n",
    "            msp = filename.split('.CDF')[0] + '.MSP'\n",
    "            output_msp(path + '/'+ msp, sta_S, rt)\n",
    "            csv = filename.split('.CDF')[0] + '.csv'\n",
    "            df = pd.DataFrame({'rt': rt, 'area': area, 'R2': R2})\n",
    "            df.to_csv(path + '/' + csv, index = False)\n",
    "end = time.time()\n",
    "print(\"Running time: %.2fs\"%(end - start))"
   ]
  }
 ],
 "metadata": {
  "kernelspec": {
   "display_name": "Python 3 (ipykernel)",
   "language": "python",
   "name": "python3"
  },
  "language_info": {
   "codemirror_mode": {
    "name": "ipython",
    "version": 3
   },
   "file_extension": ".py",
   "mimetype": "text/x-python",
   "name": "python",
   "nbconvert_exporter": "python",
   "pygments_lexer": "ipython3",
   "version": "3.7.12"
  }
 },
 "nbformat": 4,
 "nbformat_minor": 5
}
